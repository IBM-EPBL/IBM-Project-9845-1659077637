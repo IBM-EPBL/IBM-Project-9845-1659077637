{
 "cells": [
  {
   "cell_type": "code",
   "execution_count": 1,
   "id": "0d2e8ebe",
   "metadata": {},
   "outputs": [],
   "source": [
    "import pandas as pd\n",
    "import numpy as np\n",
    "import matplotlib.pyplot as plt\n",
    "import seaborn as sns"
   ]
  },
  {
   "cell_type": "markdown",
   "id": "476249e3",
   "metadata": {},
   "source": [
    "# 1&2. Downloading and Loading the dataset"
   ]
  },
  {
   "cell_type": "code",
   "execution_count": 2,
   "id": "410fe354",
   "metadata": {},
   "outputs": [],
   "source": [
    "data = pd.read_csv(r\"Mall_Customers.csv\")"
   ]
  },
  {
   "cell_type": "code",
   "execution_count": 3,
   "id": "8ccd3794",
   "metadata": {},
   "outputs": [
    {
     "data": {
      "text/html": [
       "<div>\n",
       "<style scoped>\n",
       "    .dataframe tbody tr th:only-of-type {\n",
       "        vertical-align: middle;\n",
       "    }\n",
       "\n",
       "    .dataframe tbody tr th {\n",
       "        vertical-align: top;\n",
       "    }\n",
       "\n",
       "    .dataframe thead th {\n",
       "        text-align: right;\n",
       "    }\n",
       "</style>\n",
       "<table border=\"1\" class=\"dataframe\">\n",
       "  <thead>\n",
       "    <tr style=\"text-align: right;\">\n",
       "      <th></th>\n",
       "      <th>CustomerID</th>\n",
       "      <th>Gender</th>\n",
       "      <th>Age</th>\n",
       "      <th>Annual Income (k$)</th>\n",
       "      <th>Spending Score (1-100)</th>\n",
       "    </tr>\n",
       "  </thead>\n",
       "  <tbody>\n",
       "    <tr>\n",
       "      <th>0</th>\n",
       "      <td>1</td>\n",
       "      <td>Male</td>\n",
       "      <td>19</td>\n",
       "      <td>15</td>\n",
       "      <td>39</td>\n",
       "    </tr>\n",
       "    <tr>\n",
       "      <th>1</th>\n",
       "      <td>2</td>\n",
       "      <td>Male</td>\n",
       "      <td>21</td>\n",
       "      <td>15</td>\n",
       "      <td>81</td>\n",
       "    </tr>\n",
       "    <tr>\n",
       "      <th>2</th>\n",
       "      <td>3</td>\n",
       "      <td>Female</td>\n",
       "      <td>20</td>\n",
       "      <td>16</td>\n",
       "      <td>6</td>\n",
       "    </tr>\n",
       "    <tr>\n",
       "      <th>3</th>\n",
       "      <td>4</td>\n",
       "      <td>Female</td>\n",
       "      <td>23</td>\n",
       "      <td>16</td>\n",
       "      <td>77</td>\n",
       "    </tr>\n",
       "    <tr>\n",
       "      <th>4</th>\n",
       "      <td>5</td>\n",
       "      <td>Female</td>\n",
       "      <td>31</td>\n",
       "      <td>17</td>\n",
       "      <td>40</td>\n",
       "    </tr>\n",
       "    <tr>\n",
       "      <th>...</th>\n",
       "      <td>...</td>\n",
       "      <td>...</td>\n",
       "      <td>...</td>\n",
       "      <td>...</td>\n",
       "      <td>...</td>\n",
       "    </tr>\n",
       "    <tr>\n",
       "      <th>195</th>\n",
       "      <td>196</td>\n",
       "      <td>Female</td>\n",
       "      <td>35</td>\n",
       "      <td>120</td>\n",
       "      <td>79</td>\n",
       "    </tr>\n",
       "    <tr>\n",
       "      <th>196</th>\n",
       "      <td>197</td>\n",
       "      <td>Female</td>\n",
       "      <td>45</td>\n",
       "      <td>126</td>\n",
       "      <td>28</td>\n",
       "    </tr>\n",
       "    <tr>\n",
       "      <th>197</th>\n",
       "      <td>198</td>\n",
       "      <td>Male</td>\n",
       "      <td>32</td>\n",
       "      <td>126</td>\n",
       "      <td>74</td>\n",
       "    </tr>\n",
       "    <tr>\n",
       "      <th>198</th>\n",
       "      <td>199</td>\n",
       "      <td>Male</td>\n",
       "      <td>32</td>\n",
       "      <td>137</td>\n",
       "      <td>18</td>\n",
       "    </tr>\n",
       "    <tr>\n",
       "      <th>199</th>\n",
       "      <td>200</td>\n",
       "      <td>Male</td>\n",
       "      <td>30</td>\n",
       "      <td>137</td>\n",
       "      <td>83</td>\n",
       "    </tr>\n",
       "  </tbody>\n",
       "</table>\n",
       "<p>200 rows × 5 columns</p>\n",
       "</div>"
      ],
      "text/plain": [
       "     CustomerID  Gender  Age  Annual Income (k$)  Spending Score (1-100)\n",
       "0             1    Male   19                  15                      39\n",
       "1             2    Male   21                  15                      81\n",
       "2             3  Female   20                  16                       6\n",
       "3             4  Female   23                  16                      77\n",
       "4             5  Female   31                  17                      40\n",
       "..          ...     ...  ...                 ...                     ...\n",
       "195         196  Female   35                 120                      79\n",
       "196         197  Female   45                 126                      28\n",
       "197         198    Male   32                 126                      74\n",
       "198         199    Male   32                 137                      18\n",
       "199         200    Male   30                 137                      83\n",
       "\n",
       "[200 rows x 5 columns]"
      ]
     },
     "execution_count": 3,
     "metadata": {},
     "output_type": "execute_result"
    }
   ],
   "source": [
    "data"
   ]
  },
  {
   "cell_type": "markdown",
   "id": "42b7ea4f",
   "metadata": {},
   "source": [
    "# 3. Visualizing the analysis"
   ]
  },
  {
   "cell_type": "markdown",
   "id": "afc08813",
   "metadata": {},
   "source": [
    "# 3.1 Univariate Analysis"
   ]
  },
  {
   "cell_type": "code",
   "execution_count": 5,
   "id": "282d775a",
   "metadata": {},
   "outputs": [
    {
     "data": {
      "image/png": "[encoded data removed]",
      "text/plain": [
       "<Figure size 432x288 with 1 Axes>"
      ]
     },
     "metadata": {
      "needs_background": "light"
     },
     "output_type": "display_data"
    }
   ],
   "source": [
    "plt.hist(data['Age']);\n",
    "plt.xlabel('Age');\n",
    "plt.show();"
   ]
  },
  {
   "cell_type": "code",
   "execution_count": 6,
   "id": "77cde5cd",
   "metadata": {},
   "outputs": [
    {
     "data": {
      "image/png": "[encoded data removed]",
      "text/plain": [
       "<Figure size 432x288 with 1 Axes>"
      ]
     },
     "metadata": {
      "needs_background": "light"
     },
     "output_type": "display_data"
    }
   ],
   "source": [
    "plt.hist(data['Gender']);\n",
    "plt.xlabel('Gender');\n",
    "plt.show();"
   ]
  },
  {
   "cell_type": "code",
   "execution_count": 7,
   "id": "4476bc71",
   "metadata": {},
   "outputs": [
    {
     "data": {
      "image/png": "[encoded data removed]",
      "text/plain": [
       "<Figure size 432x288 with 1 Axes>"
      ]
     },
     "metadata": {
      "needs_background": "light"
     },
     "output_type": "display_data"
    }
   ],
   "source": [
    "plt.hist(data['Annual Income (k$)']);\n",
    "plt.xlabel('Annual Income (k$)');\n",
    "plt.show();"
   ]
  },
  {
   "cell_type": "code",
   "execution_count": 8,
   "id": "b7b5f4d4",
   "metadata": {},
   "outputs": [
    {
     "data": {
      "image/png": "[encoded data removed]",
      "text/plain": [
       "<Figure size 432x288 with 1 Axes>"
      ]
     },
     "metadata": {
      "needs_background": "light"
     },
     "output_type": "display_data"
    }
   ],
   "source": [
    "plt.hist(data['Spending Score (1-100)']);\n",
    "plt.xlabel('Spending Score (1-100)');\n",
    "plt.show();"
   ]
  },
  {
   "cell_type": "markdown",
   "id": "c9f0df26",
   "metadata": {},
   "source": [
    "# 3.2 Bi - Variate Analysis"
   ]
  },
  {
   "cell_type": "code",
   "execution_count": 9,
   "id": "5ce99239",
   "metadata": {},
   "outputs": [
    {
     "data": {
      "image/png": "[encoded data removed]",
      "text/plain": [
       "<Figure size 432x288 with 1 Axes>"
      ]
     },
     "metadata": {
      "needs_background": "light"
     },
     "output_type": "display_data"
    }
   ],
   "source": [
    "sns.lineplot(x=data[\"Age\"], y=data[\"Annual Income (k$)\"]);\n",
    "plt.xlabel('Age');\n",
    "plt.ylabel('Annual Income (k$)');\n",
    "plt.show();"
   ]
  },
  {
   "cell_type": "code",
   "execution_count": 10,
   "id": "74b97956",
   "metadata": {},
   "outputs": [
    {
     "data": {
      "image/png": "[encoded data removed]",
      "text/plain": [
       "<Figure size 432x288 with 1 Axes>"
      ]
     },
     "metadata": {
      "needs_background": "light"
     },
     "output_type": "display_data"
    }
   ],
   "source": [
    "sns.lineplot(x=data[\"Age\"], y=data[\"Spending Score (1-100)\"]);\n",
    "plt.xlabel('Age');\n",
    "plt.ylabel('Spending Score (1-100)');\n",
    "plt.show();"
   ]
  },
  {
   "cell_type": "markdown",
   "id": "0102e695",
   "metadata": {},
   "source": [
    "# 3.3 Multi - Variate Analysis"
   ]
  },
  {
   "cell_type": "code",
   "execution_count": 11,
   "id": "69c49d23",
   "metadata": {},
   "outputs": [
    {
     "data": {
      "image/png": "[encoded data removed]",
      "text/plain": [
       "<Figure size 432x288 with 2 Axes>"
      ]
     },
     "metadata": {
      "needs_background": "light"
     },
     "output_type": "display_data"
    }
   ],
   "source": [
    "sns.heatmap(data.corr(), annot=True);"
   ]
  },
  {
   "cell_type": "markdown",
   "id": "dfbaaef7",
   "metadata": {},
   "source": [
    "# 4. Descriptive statistics"
   ]
  },
  {
   "cell_type": "code",
   "execution_count": 12,
   "id": "34457bbf",
   "metadata": {},
   "outputs": [
    {
     "data": {
      "text/html": [
       "<div>\n",
       "<style scoped>\n",
       "    .dataframe tbody tr th:only-of-type {\n",
       "        vertical-align: middle;\n",
       "    }\n",
       "\n",
       "    .dataframe tbody tr th {\n",
       "        vertical-align: top;\n",
       "    }\n",
       "\n",
       "    .dataframe thead th {\n",
       "        text-align: right;\n",
       "    }\n",
       "</style>\n",
       "<table border=\"1\" class=\"dataframe\">\n",
       "  <thead>\n",
       "    <tr style=\"text-align: right;\">\n",
       "      <th></th>\n",
       "      <th>CustomerID</th>\n",
       "      <th>Age</th>\n",
       "      <th>Annual Income (k$)</th>\n",
       "      <th>Spending Score (1-100)</th>\n",
       "    </tr>\n",
       "  </thead>\n",
       "  <tbody>\n",
       "    <tr>\n",
       "      <th>count</th>\n",
       "      <td>200.000000</td>\n",
       "      <td>200.000000</td>\n",
       "      <td>200.000000</td>\n",
       "      <td>200.000000</td>\n",
       "    </tr>\n",
       "    <tr>\n",
       "      <th>mean</th>\n",
       "      <td>100.500000</td>\n",
       "      <td>38.850000</td>\n",
       "      <td>60.560000</td>\n",
       "      <td>50.200000</td>\n",
       "    </tr>\n",
       "    <tr>\n",
       "      <th>std</th>\n",
       "      <td>57.879185</td>\n",
       "      <td>13.969007</td>\n",
       "      <td>26.264721</td>\n",
       "      <td>25.823522</td>\n",
       "    </tr>\n",
       "    <tr>\n",
       "      <th>min</th>\n",
       "      <td>1.000000</td>\n",
       "      <td>18.000000</td>\n",
       "      <td>15.000000</td>\n",
       "      <td>1.000000</td>\n",
       "    </tr>\n",
       "    <tr>\n",
       "      <th>25%</th>\n",
       "      <td>50.750000</td>\n",
       "      <td>28.750000</td>\n",
       "      <td>41.500000</td>\n",
       "      <td>34.750000</td>\n",
       "    </tr>\n",
       "    <tr>\n",
       "      <th>50%</th>\n",
       "      <td>100.500000</td>\n",
       "      <td>36.000000</td>\n",
       "      <td>61.500000</td>\n",
       "      <td>50.000000</td>\n",
       "    </tr>\n",
       "    <tr>\n",
       "      <th>75%</th>\n",
       "      <td>150.250000</td>\n",
       "      <td>49.000000</td>\n",
       "      <td>78.000000</td>\n",
       "      <td>73.000000</td>\n",
       "    </tr>\n",
       "    <tr>\n",
       "      <th>max</th>\n",
       "      <td>200.000000</td>\n",
       "      <td>70.000000</td>\n",
       "      <td>137.000000</td>\n",
       "      <td>99.000000</td>\n",
       "    </tr>\n",
       "  </tbody>\n",
       "</table>\n",
       "</div>"
      ],
      "text/plain": [
       "       CustomerID         Age  Annual Income (k$)  Spending Score (1-100)\n",
       "count  200.000000  200.000000          200.000000              200.000000\n",
       "mean   100.500000   38.850000           60.560000               50.200000\n",
       "std     57.879185   13.969007           26.264721               25.823522\n",
       "min      1.000000   18.000000           15.000000                1.000000\n",
       "25%     50.750000   28.750000           41.500000               34.750000\n",
       "50%    100.500000   36.000000           61.500000               50.000000\n",
       "75%    150.250000   49.000000           78.000000               73.000000\n",
       "max    200.000000   70.000000          137.000000               99.000000"
      ]
     },
     "execution_count": 12,
     "metadata": {},
     "output_type": "execute_result"
    }
   ],
   "source": [
    "data.describe()"
   ]
  },
  {
   "cell_type": "code",
   "execution_count": 13,
   "id": "548713ab",
   "metadata": {},
   "outputs": [
    {
     "name": "stdout",
     "output_type": "stream",
     "text": [
      "<class 'pandas.core.frame.DataFrame'>\n",
      "RangeIndex: 200 entries, 0 to 199\n",
      "Data columns (total 5 columns):\n",
      " #   Column                  Non-Null Count  Dtype \n",
      "---  ------                  --------------  ----- \n",
      " 0   CustomerID              200 non-null    int64 \n",
      " 1   Gender                  200 non-null    object\n",
      " 2   Age                     200 non-null    int64 \n",
      " 3   Annual Income (k$)      200 non-null    int64 \n",
      " 4   Spending Score (1-100)  200 non-null    int64 \n",
      "dtypes: int64(4), object(1)\n",
      "memory usage: 7.9+ KB\n"
     ]
    }
   ],
   "source": [
    "data.info()"
   ]
  },
  {
   "cell_type": "code",
   "execution_count": 14,
   "id": "3e571474",
   "metadata": {},
   "outputs": [
    {
     "data": {
      "text/plain": [
       "Index(['CustomerID', 'Gender', 'Age', 'Annual Income (k$)',\n",
       "       'Spending Score (1-100)'],\n",
       "      dtype='object')"
      ]
     },
     "execution_count": 14,
     "metadata": {},
     "output_type": "execute_result"
    }
   ],
   "source": [
    "data.columns"
   ]
  },
  {
   "cell_type": "code",
   "execution_count": 15,
   "id": "3d5c09ed",
   "metadata": {},
   "outputs": [
    {
     "data": {
      "text/plain": [
       "(200, 5)"
      ]
     },
     "execution_count": 15,
     "metadata": {},
     "output_type": "execute_result"
    }
   ],
   "source": [
    "data.shape"
   ]
  },
  {
   "cell_type": "markdown",
   "id": "f9871909",
   "metadata": {},
   "source": [
    "# 5. Handling missing values"
   ]
  },
  {
   "cell_type": "code",
   "execution_count": 16,
   "id": "99cea73d",
   "metadata": {},
   "outputs": [
    {
     "data": {
      "text/plain": [
       "CustomerID                False\n",
       "Gender                    False\n",
       "Age                       False\n",
       "Annual Income (k$)        False\n",
       "Spending Score (1-100)    False\n",
       "dtype: bool"
      ]
     },
     "execution_count": 16,
     "metadata": {},
     "output_type": "execute_result"
    }
   ],
   "source": [
    "data.isnull().any()"
   ]
  },
  {
   "cell_type": "code",
   "execution_count": 17,
   "id": "8e12a44c",
   "metadata": {},
   "outputs": [
    {
     "data": {
      "text/plain": [
       "CustomerID                0\n",
       "Gender                    0\n",
       "Age                       0\n",
       "Annual Income (k$)        0\n",
       "Spending Score (1-100)    0\n",
       "dtype: int64"
      ]
     },
     "execution_count": 17,
     "metadata": {},
     "output_type": "execute_result"
    }
   ],
   "source": [
    "data.isnull().sum()"
   ]
  },
  {
   "cell_type": "markdown",
   "id": "404be65f",
   "metadata": {},
   "source": [
    "# 6. Finding outliers and replacing them"
   ]
  },
  {
   "cell_type": "code",
   "execution_count": 20,
   "id": "32cbb4fe",
   "metadata": {},
   "outputs": [
    {
     "data": {
      "image/png": "[encoded data removed]",
      "text/plain": [
       "<Figure size 1080x1440 with 3 Axes>"
      ]
     },
     "metadata": {
      "needs_background": "light"
     },
     "output_type": "display_data"
    }
   ],
   "source": [
    "cols=['Age', 'Annual Income (k$)', 'Spending Score (1-100)']\n",
    "fig, axes = plt.subplots(3, 1, figsize=(15, 20))\n",
    "for i in range(3):    \n",
    "    sns.boxplot(ax=axes[i], data=data, x=cols[i])\n",
    "plt.show()"
   ]
  },
  {
   "cell_type": "code",
   "execution_count": 22,
   "id": "2c2071ac",
   "metadata": {},
   "outputs": [],
   "source": [
    "for col in cols:\n",
    "    Q1 = data[col].quantile(0.25)\n",
    "    Q3 = data[col].quantile(0.75)\n",
    "    IQR = Q3 - Q1\n",
    "    lower = Q1-(1.5*IQR)\n",
    "    upper = Q3+(1.5*IQR)\n",
    "    data[col]=np.where(data[col]>upper,upper,np.where(data[col]<lower,lower,data[col]))"
   ]
  },
  {
   "cell_type": "code",
   "execution_count": 23,
   "id": "9304d9bd",
   "metadata": {},
   "outputs": [
    {
     "data": {
      "image/png": "[encoded data removed]",
      "text/plain": [
       "<Figure size 1080x1440 with 3 Axes>"
      ]
     },
     "metadata": {
      "needs_background": "light"
     },
     "output_type": "display_data"
    }
   ],
   "source": [
    "fig, axes = plt.subplots(3, 1, figsize=(15, 20))\n",
    "for i in range(3):    \n",
    "    sns.boxplot(ax=axes[i], data=data, x=cols[i])\n",
    "plt.show()"
   ]
  },
  {
   "cell_type": "markdown",
   "id": "9ef7900b",
   "metadata": {},
   "source": [
    "# 7. Encoding the categorical columns"
   ]
  },
  {
   "cell_type": "code",
   "execution_count": 24,
   "id": "a1e8dff9",
   "metadata": {},
   "outputs": [
    {
     "data": {
      "text/plain": [
       "array(['Male', 'Female'], dtype=object)"
      ]
     },
     "execution_count": 24,
     "metadata": {},
     "output_type": "execute_result"
    }
   ],
   "source": [
    "data['Gender'].unique()"
   ]
  },
  {
   "cell_type": "code",
   "execution_count": 25,
   "id": "2031de49",
   "metadata": {},
   "outputs": [],
   "source": [
    "data['Gender'].replace({'Male':1,\"Female\":0},inplace=True)"
   ]
  },
  {
   "cell_type": "code",
   "execution_count": 26,
   "id": "ad9c4bdf",
   "metadata": {},
   "outputs": [
    {
     "data": {
      "text/html": [
       "<div>\n",
       "<style scoped>\n",
       "    .dataframe tbody tr th:only-of-type {\n",
       "        vertical-align: middle;\n",
       "    }\n",
       "\n",
       "    .dataframe tbody tr th {\n",
       "        vertical-align: top;\n",
       "    }\n",
       "\n",
       "    .dataframe thead th {\n",
       "        text-align: right;\n",
       "    }\n",
       "</style>\n",
       "<table border=\"1\" class=\"dataframe\">\n",
       "  <thead>\n",
       "    <tr style=\"text-align: right;\">\n",
       "      <th></th>\n",
       "      <th>CustomerID</th>\n",
       "      <th>Gender</th>\n",
       "      <th>Age</th>\n",
       "      <th>Annual Income (k$)</th>\n",
       "      <th>Spending Score (1-100)</th>\n",
       "    </tr>\n",
       "  </thead>\n",
       "  <tbody>\n",
       "    <tr>\n",
       "      <th>0</th>\n",
       "      <td>1</td>\n",
       "      <td>1</td>\n",
       "      <td>19.0</td>\n",
       "      <td>15.00</td>\n",
       "      <td>39.0</td>\n",
       "    </tr>\n",
       "    <tr>\n",
       "      <th>1</th>\n",
       "      <td>2</td>\n",
       "      <td>1</td>\n",
       "      <td>21.0</td>\n",
       "      <td>15.00</td>\n",
       "      <td>81.0</td>\n",
       "    </tr>\n",
       "    <tr>\n",
       "      <th>2</th>\n",
       "      <td>3</td>\n",
       "      <td>0</td>\n",
       "      <td>20.0</td>\n",
       "      <td>16.00</td>\n",
       "      <td>6.0</td>\n",
       "    </tr>\n",
       "    <tr>\n",
       "      <th>3</th>\n",
       "      <td>4</td>\n",
       "      <td>0</td>\n",
       "      <td>23.0</td>\n",
       "      <td>16.00</td>\n",
       "      <td>77.0</td>\n",
       "    </tr>\n",
       "    <tr>\n",
       "      <th>4</th>\n",
       "      <td>5</td>\n",
       "      <td>0</td>\n",
       "      <td>31.0</td>\n",
       "      <td>17.00</td>\n",
       "      <td>40.0</td>\n",
       "    </tr>\n",
       "    <tr>\n",
       "      <th>...</th>\n",
       "      <td>...</td>\n",
       "      <td>...</td>\n",
       "      <td>...</td>\n",
       "      <td>...</td>\n",
       "      <td>...</td>\n",
       "    </tr>\n",
       "    <tr>\n",
       "      <th>195</th>\n",
       "      <td>196</td>\n",
       "      <td>0</td>\n",
       "      <td>35.0</td>\n",
       "      <td>120.00</td>\n",
       "      <td>79.0</td>\n",
       "    </tr>\n",
       "    <tr>\n",
       "      <th>196</th>\n",
       "      <td>197</td>\n",
       "      <td>0</td>\n",
       "      <td>45.0</td>\n",
       "      <td>126.00</td>\n",
       "      <td>28.0</td>\n",
       "    </tr>\n",
       "    <tr>\n",
       "      <th>197</th>\n",
       "      <td>198</td>\n",
       "      <td>1</td>\n",
       "      <td>32.0</td>\n",
       "      <td>126.00</td>\n",
       "      <td>74.0</td>\n",
       "    </tr>\n",
       "    <tr>\n",
       "      <th>198</th>\n",
       "      <td>199</td>\n",
       "      <td>1</td>\n",
       "      <td>32.0</td>\n",
       "      <td>132.75</td>\n",
       "      <td>18.0</td>\n",
       "    </tr>\n",
       "    <tr>\n",
       "      <th>199</th>\n",
       "      <td>200</td>\n",
       "      <td>1</td>\n",
       "      <td>30.0</td>\n",
       "      <td>132.75</td>\n",
       "      <td>83.0</td>\n",
       "    </tr>\n",
       "  </tbody>\n",
       "</table>\n",
       "<p>200 rows × 5 columns</p>\n",
       "</div>"
      ],
      "text/plain": [
       "     CustomerID  Gender   Age  Annual Income (k$)  Spending Score (1-100)\n",
       "0             1       1  19.0               15.00                    39.0\n",
       "1             2       1  21.0               15.00                    81.0\n",
       "2             3       0  20.0               16.00                     6.0\n",
       "3             4       0  23.0               16.00                    77.0\n",
       "4             5       0  31.0               17.00                    40.0\n",
       "..          ...     ...   ...                 ...                     ...\n",
       "195         196       0  35.0              120.00                    79.0\n",
       "196         197       0  45.0              126.00                    28.0\n",
       "197         198       1  32.0              126.00                    74.0\n",
       "198         199       1  32.0              132.75                    18.0\n",
       "199         200       1  30.0              132.75                    83.0\n",
       "\n",
       "[200 rows x 5 columns]"
      ]
     },
     "execution_count": 26,
     "metadata": {},
     "output_type": "execute_result"
    }
   ],
   "source": [
    "data"
   ]
  },
  {
   "cell_type": "markdown",
   "id": "2a08a019",
   "metadata": {},
   "source": [
    "# 8. Scaling the data"
   ]
  },
  {
   "cell_type": "code",
   "execution_count": 28,
   "id": "f5ad2288",
   "metadata": {},
   "outputs": [
    {
     "data": {
      "text/plain": [
       "array([[-1.7234121 ,  1.12815215, -1.42456879, -1.74542941, -0.43480148],\n",
       "       [-1.70609137,  1.12815215, -1.28103541, -1.74542941,  1.19570407],\n",
       "       [-1.68877065, -0.88640526, -1.3528021 , -1.70708307, -1.71591298],\n",
       "       [-1.67144992, -0.88640526, -1.13750203, -1.70708307,  1.04041783],\n",
       "       [-1.6541292 , -0.88640526, -0.56336851, -1.66873673, -0.39597992],\n",
       "       [-1.63680847, -0.88640526, -1.20926872, -1.66873673,  1.00159627],\n",
       "       [-1.61948775, -0.88640526, -0.27630176, -1.6303904 , -1.71591298],\n",
       "       [-1.60216702, -0.88640526, -1.13750203, -1.6303904 ,  1.70038436],\n",
       "       [-1.5848463 ,  1.12815215,  1.80493225, -1.59204406, -1.83237767],\n",
       "       [-1.56752558, -0.88640526, -0.6351352 , -1.59204406,  0.84631002],\n",
       "       [-1.55020485,  1.12815215,  2.02023231, -1.59204406, -1.4053405 ],\n",
       "       [-1.53288413, -0.88640526, -0.27630176, -1.59204406,  1.89449216],\n",
       "       [-1.5155634 , -0.88640526,  1.37433211, -1.55369772, -1.36651894],\n",
       "       [-1.49824268, -0.88640526, -1.06573534, -1.55369772,  1.04041783],\n",
       "       [-1.48092195,  1.12815215, -0.13276838, -1.55369772, -1.44416206],\n",
       "       [-1.46360123,  1.12815215, -1.20926872, -1.55369772,  1.11806095],\n",
       "       [-1.4462805 , -0.88640526, -0.27630176, -1.51535138, -0.59008772],\n",
       "       [-1.42895978,  1.12815215, -1.3528021 , -1.51535138,  0.61338066],\n",
       "       [-1.41163905,  1.12815215,  0.94373197, -1.43865871, -0.82301709],\n",
       "       [-1.39431833, -0.88640526, -0.27630176, -1.43865871,  1.8556706 ],\n",
       "       [-1.3769976 ,  1.12815215, -0.27630176, -1.40031237, -0.59008772],\n",
       "       [-1.35967688,  1.12815215, -0.99396865, -1.40031237,  0.88513158],\n",
       "       [-1.34235616, -0.88640526,  0.51313183, -1.36196603, -1.75473454],\n",
       "       [-1.32503543,  1.12815215, -0.56336851, -1.36196603,  0.88513158],\n",
       "       [-1.30771471, -0.88640526,  1.08726535, -1.24692702, -1.4053405 ],\n",
       "       [-1.29039398,  1.12815215, -0.70690189, -1.24692702,  1.23452563],\n",
       "       [-1.27307326, -0.88640526,  0.44136514, -1.24692702, -0.7065524 ],\n",
       "       [-1.25575253,  1.12815215, -0.27630176, -1.24692702,  0.41927286],\n",
       "       [-1.23843181, -0.88640526,  0.08253169, -1.20858069, -0.74537397],\n",
       "       [-1.22111108, -0.88640526, -1.13750203, -1.20858069,  1.42863343],\n",
       "       [-1.20379036,  1.12815215,  1.51786549, -1.17023435, -1.7935561 ],\n",
       "       [-1.18646963, -0.88640526, -1.28103541, -1.17023435,  0.88513158],\n",
       "       [-1.16914891,  1.12815215,  1.01549866, -1.05519534, -1.7935561 ],\n",
       "       [-1.15182818,  1.12815215, -1.49633548, -1.05519534,  1.62274124],\n",
       "       [-1.13450746, -0.88640526,  0.7284319 , -1.05519534, -1.4053405 ],\n",
       "       [-1.11718674, -0.88640526, -1.28103541, -1.05519534,  1.19570407],\n",
       "       [-1.09986601, -0.88640526,  0.22606507, -1.016849  , -1.28887582],\n",
       "       [-1.08254529, -0.88640526, -0.6351352 , -1.016849  ,  0.88513158],\n",
       "       [-1.06522456, -0.88640526, -0.20453507, -0.90180999, -0.93948177],\n",
       "       [-1.04790384, -0.88640526, -1.3528021 , -0.90180999,  0.96277471],\n",
       "       [-1.03058311, -0.88640526,  1.87669894, -0.86346365, -0.59008772],\n",
       "       [-1.01326239,  1.12815215, -1.06573534, -0.86346365,  1.62274124],\n",
       "       [-0.99594166,  1.12815215,  0.65666521, -0.82511731, -0.55126616],\n",
       "       [-0.97862094, -0.88640526, -0.56336851, -0.82511731,  0.41927286],\n",
       "       [-0.96130021, -0.88640526,  0.7284319 , -0.82511731, -0.86183865],\n",
       "       [-0.94397949, -0.88640526, -1.06573534, -0.82511731,  0.5745591 ],\n",
       "       [-0.92665877, -0.88640526,  0.80019859, -0.78677098,  0.18634349],\n",
       "       [-0.90933804, -0.88640526, -0.85043527, -0.78677098, -0.12422899],\n",
       "       [-0.89201732, -0.88640526, -0.70690189, -0.78677098, -0.3183368 ],\n",
       "       [-0.87469659, -0.88640526, -0.56336851, -0.78677098, -0.3183368 ],\n",
       "       [-0.85737587, -0.88640526,  0.7284319 , -0.7100783 ,  0.06987881],\n",
       "       [-0.84005514,  1.12815215, -0.41983513, -0.7100783 ,  0.38045129],\n",
       "       [-0.82273442, -0.88640526, -0.56336851, -0.67173196,  0.14752193],\n",
       "       [-0.80541369,  1.12815215,  1.4460988 , -0.67173196,  0.38045129],\n",
       "       [-0.78809297, -0.88640526,  0.80019859, -0.67173196, -0.20187212],\n",
       "       [-0.77077224,  1.12815215,  0.58489852, -0.67173196, -0.35715836],\n",
       "       [-0.75345152, -0.88640526,  0.87196528, -0.63338563, -0.00776431],\n",
       "       [-0.73613079,  1.12815215,  2.16376569, -0.63338563, -0.16305055],\n",
       "       [-0.71881007, -0.88640526, -0.85043527, -0.55669295,  0.03105725],\n",
       "       [-0.70148935,  1.12815215,  1.01549866, -0.55669295, -0.16305055],\n",
       "       [-0.68416862,  1.12815215,  2.23553238, -0.55669295,  0.22516505],\n",
       "       [-0.6668479 ,  1.12815215, -1.42456879, -0.55669295,  0.18634349],\n",
       "       [-0.64952717, -0.88640526,  2.02023231, -0.51834661,  0.06987881],\n",
       "       [-0.63220645, -0.88640526,  1.08726535, -0.51834661,  0.34162973],\n",
       "       [-0.61488572,  1.12815215,  1.73316556, -0.48000028,  0.03105725],\n",
       "       [-0.597565  ,  1.12815215, -1.49633548, -0.48000028,  0.34162973],\n",
       "       [-0.58024427, -0.88640526,  0.29783176, -0.48000028, -0.00776431],\n",
       "       [-0.56292355, -0.88640526,  2.091999  , -0.48000028, -0.08540743],\n",
       "       [-0.54560282,  1.12815215, -1.42456879, -0.48000028,  0.34162973],\n",
       "       [-0.5282821 , -0.88640526, -0.49160182, -0.48000028, -0.12422899],\n",
       "       [-0.51096138,  1.12815215,  2.23553238, -0.44165394,  0.18634349],\n",
       "       [-0.49364065, -0.88640526,  0.58489852, -0.44165394, -0.3183368 ],\n",
       "       [-0.47631993, -0.88640526,  1.51786549, -0.4033076 , -0.04658587],\n",
       "       [-0.4589992 , -0.88640526,  1.51786549, -0.4033076 ,  0.22516505],\n",
       "       [-0.44167848,  1.12815215,  1.4460988 , -0.24992225, -0.12422899],\n",
       "       [-0.42435775,  1.12815215, -0.92220196, -0.24992225,  0.14752193],\n",
       "       [-0.40703703, -0.88640526,  0.44136514, -0.24992225,  0.10870037],\n",
       "       [-0.3897163 ,  1.12815215,  0.08253169, -0.24992225, -0.08540743],\n",
       "       [-0.37239558, -0.88640526, -1.13750203, -0.24992225,  0.06987881],\n",
       "       [-0.35507485, -0.88640526,  0.7284319 , -0.24992225, -0.3183368 ],\n",
       "       [-0.33775413,  1.12815215,  1.30256542, -0.24992225,  0.03105725],\n",
       "       [-0.3204334 ,  1.12815215, -0.06100169, -0.24992225,  0.18634349],\n",
       "       [-0.30311268,  1.12815215,  2.02023231, -0.24992225, -0.35715836],\n",
       "       [-0.28579196, -0.88640526,  0.51313183, -0.24992225, -0.24069368],\n",
       "       [-0.26847123, -0.88640526, -1.28103541, -0.24992225,  0.26398661],\n",
       "       [-0.25115051,  1.12815215,  0.65666521, -0.24992225, -0.16305055],\n",
       "       [-0.23382978, -0.88640526,  1.15903204, -0.13488324,  0.30280817],\n",
       "       [-0.21650906, -0.88640526, -1.20926872, -0.13488324,  0.18634349],\n",
       "       [-0.19918833, -0.88640526, -0.34806844, -0.0965369 ,  0.38045129],\n",
       "       [-0.18186761, -0.88640526,  0.80019859, -0.0965369 , -0.16305055],\n",
       "       [-0.16454688, -0.88640526,  2.091999  , -0.05819057,  0.18634349],\n",
       "       [-0.14722616,  1.12815215, -1.49633548, -0.05819057, -0.35715836],\n",
       "       [-0.12990543,  1.12815215,  0.65666521, -0.01984423, -0.04658587],\n",
       "       [-0.11258471, -0.88640526,  0.08253169, -0.01984423, -0.39597992],\n",
       "       [-0.09526399, -0.88640526, -0.49160182, -0.01984423, -0.3183368 ],\n",
       "       [-0.07794326,  1.12815215, -1.06573534, -0.01984423,  0.06987881],\n",
       "       [-0.06062254, -0.88640526,  0.58489852, -0.01984423, -0.12422899],\n",
       "       [-0.04330181, -0.88640526, -0.85043527, -0.01984423, -0.00776431],\n",
       "       [-0.02598109,  1.12815215,  0.65666521,  0.01850211, -0.3183368 ],\n",
       "       [-0.00866036,  1.12815215, -1.3528021 ,  0.01850211, -0.04658587],\n",
       "       [ 0.00866036, -0.88640526, -1.13750203,  0.05684845, -0.35715836],\n",
       "       [ 0.02598109, -0.88640526,  0.7284319 ,  0.05684845, -0.08540743],\n",
       "       [ 0.04330181,  1.12815215,  2.02023231,  0.05684845,  0.34162973],\n",
       "       [ 0.06062254,  1.12815215, -0.92220196,  0.05684845,  0.18634349],\n",
       "       [ 0.07794326,  1.12815215,  0.7284319 ,  0.05684845,  0.22516505],\n",
       "       [ 0.09526399, -0.88640526, -1.28103541,  0.05684845, -0.3183368 ],\n",
       "       [ 0.11258471, -0.88640526,  1.94846562,  0.09519478, -0.00776431],\n",
       "       [ 0.12990543,  1.12815215,  1.08726535,  0.09519478, -0.16305055],\n",
       "       [ 0.14722616,  1.12815215,  2.091999  ,  0.09519478, -0.27951524],\n",
       "       [ 0.16454688,  1.12815215,  1.94846562,  0.09519478, -0.08540743],\n",
       "       [ 0.18186761,  1.12815215,  1.87669894,  0.09519478,  0.06987881],\n",
       "       [ 0.19918833, -0.88640526, -1.42456879,  0.09519478,  0.14752193],\n",
       "       [ 0.21650906, -0.88640526, -0.06100169,  0.13354112, -0.3183368 ],\n",
       "       [ 0.23382978,  1.12815215, -1.42456879,  0.13354112, -0.16305055],\n",
       "       [ 0.25115051, -0.88640526, -1.49633548,  0.17188746, -0.08540743],\n",
       "       [ 0.26847123, -0.88640526, -1.42456879,  0.17188746, -0.00776431],\n",
       "       [ 0.28579196, -0.88640526,  1.73316556,  0.17188746, -0.27951524],\n",
       "       [ 0.30311268, -0.88640526,  0.7284319 ,  0.17188746,  0.34162973],\n",
       "       [ 0.3204334 , -0.88640526,  0.87196528,  0.24858013, -0.27951524],\n",
       "       [ 0.33775413, -0.88640526,  0.80019859,  0.24858013,  0.26398661],\n",
       "       [ 0.35507485,  1.12815215, -0.85043527,  0.24858013,  0.22516505],\n",
       "       [ 0.37239558, -0.88640526, -0.06100169,  0.24858013, -0.39597992],\n",
       "       [ 0.3897163 , -0.88640526,  0.08253169,  0.32527281,  0.30280817],\n",
       "       [ 0.40703703,  1.12815215,  0.010765  ,  0.32527281,  1.58391968],\n",
       "       [ 0.42435775, -0.88640526, -1.13750203,  0.36361914, -0.82301709],\n",
       "       [ 0.44167848, -0.88640526, -0.56336851,  0.36361914,  1.04041783],\n",
       "       [ 0.4589992 ,  1.12815215,  0.29783176,  0.40196548, -0.59008772],\n",
       "       [ 0.47631993,  1.12815215,  0.08253169,  0.40196548,  1.73920592],\n",
       "       [ 0.49364065,  1.12815215,  1.4460988 ,  0.40196548, -1.52180518],\n",
       "       [ 0.51096138,  1.12815215, -0.06100169,  0.40196548,  0.96277471],\n",
       "       [ 0.5282821 ,  1.12815215,  0.58489852,  0.40196548, -1.5994483 ],\n",
       "       [ 0.54560282,  1.12815215,  0.010765  ,  0.40196548,  0.96277471],\n",
       "       [ 0.56292355, -0.88640526, -0.99396865,  0.44031182, -0.62890928],\n",
       "       [ 0.58024427, -0.88640526, -0.56336851,  0.44031182,  0.80748846],\n",
       "       [ 0.597565  ,  1.12815215, -1.3528021 ,  0.47865816, -1.75473454],\n",
       "       [ 0.61488572, -0.88640526, -0.70690189,  0.47865816,  1.46745499],\n",
       "       [ 0.63220645, -0.88640526,  0.36959845,  0.47865816, -1.67709142],\n",
       "       [ 0.64952717,  1.12815215, -0.49160182,  0.47865816,  0.88513158],\n",
       "       [ 0.6668479 ,  1.12815215, -1.42456879,  0.51700449, -1.56062674],\n",
       "       [ 0.68416862, -0.88640526, -0.27630176,  0.51700449,  0.84631002],\n",
       "       [ 0.70148935, -0.88640526,  1.30256542,  0.55535083, -1.75473454],\n",
       "       [ 0.71881007,  1.12815215, -0.49160182,  0.55535083,  1.6615628 ],\n",
       "       [ 0.73613079, -0.88640526, -0.77866858,  0.59369717, -0.39597992],\n",
       "       [ 0.75345152, -0.88640526, -0.49160182,  0.59369717,  1.42863343],\n",
       "       [ 0.77077224,  1.12815215, -0.99396865,  0.6320435 , -1.48298362],\n",
       "       [ 0.78809297,  1.12815215, -0.77866858,  0.6320435 ,  1.81684904],\n",
       "       [ 0.80541369,  1.12815215,  0.65666521,  0.6320435 , -0.55126616],\n",
       "       [ 0.82273442, -0.88640526, -0.49160182,  0.6320435 ,  0.92395314],\n",
       "       [ 0.84005514, -0.88640526, -0.34806844,  0.67038984, -1.09476801],\n",
       "       [ 0.85737587,  1.12815215, -0.34806844,  0.67038984,  1.54509812],\n",
       "       [ 0.87469659,  1.12815215,  0.29783176,  0.67038984, -1.28887582],\n",
       "       [ 0.89201732,  1.12815215,  0.010765  ,  0.67038984,  1.46745499],\n",
       "       [ 0.90933804, -0.88640526,  0.36959845,  0.67038984, -1.17241113],\n",
       "       [ 0.92665877, -0.88640526, -0.06100169,  0.67038984,  1.00159627],\n",
       "       [ 0.94397949, -0.88640526,  0.58489852,  0.67038984, -1.32769738],\n",
       "       [ 0.96130021, -0.88640526, -0.85043527,  0.67038984,  1.50627656],\n",
       "       [ 0.97862094,  1.12815215, -0.13276838,  0.67038984, -1.91002079],\n",
       "       [ 0.99594166, -0.88640526, -0.6351352 ,  0.67038984,  1.07923939],\n",
       "       [ 1.01326239,  1.12815215, -0.34806844,  0.67038984, -1.91002079],\n",
       "       [ 1.03058311, -0.88640526, -0.6351352 ,  0.67038984,  0.88513158],\n",
       "       [ 1.04790384, -0.88640526,  1.23079873,  0.70873618, -0.59008772],\n",
       "       [ 1.06522456, -0.88640526, -0.70690189,  0.70873618,  1.27334719],\n",
       "       [ 1.08254529,  1.12815215, -1.42456879,  0.78542885, -1.75473454],\n",
       "       [ 1.09986601, -0.88640526, -0.56336851,  0.78542885,  1.6615628 ],\n",
       "       [ 1.11718674,  1.12815215,  0.80019859,  0.9388142 , -0.93948177],\n",
       "       [ 1.13450746, -0.88640526, -0.20453507,  0.9388142 ,  0.96277471],\n",
       "       [ 1.15182818,  1.12815215,  0.22606507,  0.97716054, -1.17241113],\n",
       "       [ 1.16914891, -0.88640526, -0.41983513,  0.97716054,  1.73920592],\n",
       "       [ 1.18646963, -0.88640526, -0.20453507,  1.01550688, -0.90066021],\n",
       "       [ 1.20379036,  1.12815215, -0.49160182,  1.01550688,  0.49691598],\n",
       "       [ 1.22111108,  1.12815215,  0.08253169,  1.01550688, -1.44416206],\n",
       "       [ 1.23843181,  1.12815215, -0.77866858,  1.01550688,  0.96277471],\n",
       "       [ 1.25575253,  1.12815215, -0.20453507,  1.01550688, -1.56062674],\n",
       "       [ 1.27307326,  1.12815215, -0.20453507,  1.01550688,  1.62274124],\n",
       "       [ 1.29039398, -0.88640526,  0.94373197,  1.05385321, -1.44416206],\n",
       "       [ 1.30771471, -0.88640526, -0.6351352 ,  1.05385321,  1.38981187],\n",
       "       [ 1.32503543,  1.12815215,  1.37433211,  1.05385321, -1.36651894],\n",
       "       [ 1.34235616,  1.12815215, -0.85043527,  1.05385321,  0.72984534],\n",
       "       [ 1.35967688,  1.12815215,  1.4460988 ,  1.2455849 , -1.4053405 ],\n",
       "       [ 1.3769976 ,  1.12815215, -0.27630176,  1.2455849 ,  1.54509812],\n",
       "       [ 1.39431833, -0.88640526, -0.13276838,  1.39897025, -0.7065524 ],\n",
       "       [ 1.41163905, -0.88640526, -0.49160182,  1.39897025,  1.38981187],\n",
       "       [ 1.42895978,  1.12815215,  0.51313183,  1.43731659, -1.36651894],\n",
       "       [ 1.4462805 , -0.88640526, -0.70690189,  1.43731659,  1.46745499],\n",
       "       [ 1.46360123, -0.88640526,  0.15429838,  1.47566292, -0.43480148],\n",
       "       [ 1.48092195,  1.12815215, -0.6351352 ,  1.47566292,  1.81684904],\n",
       "       [ 1.49824268, -0.88640526,  1.08726535,  1.5523556 , -1.01712489],\n",
       "       [ 1.5155634 ,  1.12815215, -0.77866858,  1.5523556 ,  0.69102378],\n",
       "       [ 1.53288413, -0.88640526,  0.15429838,  1.62904827, -1.28887582],\n",
       "       [ 1.55020485, -0.88640526, -0.20453507,  1.62904827,  1.35099031],\n",
       "       [ 1.56752558, -0.88640526, -0.34806844,  1.62904827, -1.05594645],\n",
       "       [ 1.5848463 , -0.88640526, -0.49160182,  1.62904827,  0.72984534],\n",
       "       [ 1.60216702,  1.12815215, -0.41983513,  2.01251165, -1.63826986],\n",
       "       [ 1.61948775, -0.88640526, -0.06100169,  2.01251165,  1.58391968],\n",
       "       [ 1.63680847, -0.88640526,  0.58489852,  2.28093601, -1.32769738],\n",
       "       [ 1.6541292 , -0.88640526, -0.27630176,  2.28093601,  1.11806095],\n",
       "       [ 1.67144992, -0.88640526,  0.44136514,  2.51101403, -0.86183865],\n",
       "       [ 1.68877065,  1.12815215, -0.49160182,  2.51101403,  0.92395314],\n",
       "       [ 1.70609137,  1.12815215, -0.49160182,  2.76985181, -1.25005425],\n",
       "       [ 1.7234121 ,  1.12815215, -0.6351352 ,  2.76985181,  1.27334719]])"
      ]
     },
     "execution_count": 28,
     "metadata": {},
     "output_type": "execute_result"
    }
   ],
   "source": [
    "from sklearn.preprocessing import StandardScaler\n",
    "scaler=StandardScaler()\n",
    "scaled_data=scaler.fit_transform(data)\n",
    "scaled_data"
   ]
  },
  {
   "cell_type": "markdown",
   "id": "ee6c66cc",
   "metadata": {},
   "source": [
    "# 9. Clustering"
   ]
  },
  {
   "cell_type": "code",
   "execution_count": 29,
   "id": "4ed3bf07",
   "metadata": {},
   "outputs": [
    {
     "data": {
      "text/plain": [
       "KMeans(n_clusters=5, random_state=42)"
      ]
     },
     "execution_count": 29,
     "metadata": {},
     "output_type": "execute_result"
    }
   ],
   "source": [
    "from sklearn.cluster import KMeans\n",
    "kmeans=KMeans(n_clusters=5,random_state=42)\n",
    "kmeans.fit(scaled_data)"
   ]
  },
  {
   "cell_type": "code",
   "execution_count": 30,
   "id": "42a67e42",
   "metadata": {},
   "outputs": [
    {
     "data": {
      "text/plain": [
       "array([2, 2, 2, 2, 2, 2, 4, 2, 1, 2, 1, 2, 4, 2, 1, 2, 4, 2, 1, 2, 1, 2,\n",
       "       4, 2, 4, 2, 4, 2, 4, 2, 1, 2, 1, 2, 4, 2, 4, 2, 4, 2, 4, 2, 1, 2,\n",
       "       4, 2, 4, 2, 2, 2, 4, 2, 2, 1, 4, 1, 4, 1, 2, 1, 1, 2, 4, 4, 1, 2,\n",
       "       4, 4, 2, 2, 1, 4, 4, 4, 1, 2, 4, 1, 2, 4, 1, 1, 1, 4, 2, 1, 4, 2,\n",
       "       2, 4, 4, 2, 1, 4, 4, 2, 4, 2, 1, 2, 2, 4, 1, 2, 1, 2, 4, 1, 1, 1,\n",
       "       1, 2, 4, 2, 2, 2, 4, 4, 4, 4, 3, 4, 4, 3, 0, 3, 0, 3, 1, 3, 0, 3,\n",
       "       0, 3, 0, 3, 0, 3, 0, 3, 0, 3, 0, 3, 0, 3, 0, 3, 0, 3, 0, 3, 0, 3,\n",
       "       0, 3, 0, 3, 0, 3, 0, 3, 0, 3, 0, 3, 0, 3, 0, 3, 0, 3, 0, 3, 0, 3,\n",
       "       0, 3, 0, 3, 0, 3, 0, 3, 0, 3, 0, 3, 0, 3, 0, 3, 0, 3, 0, 3, 0, 3,\n",
       "       0, 3])"
      ]
     },
     "execution_count": 30,
     "metadata": {},
     "output_type": "execute_result"
    }
   ],
   "source": [
    "kmeans.labels_"
   ]
  },
  {
   "cell_type": "code",
   "execution_count": 31,
   "id": "79a64e7b",
   "metadata": {},
   "outputs": [
    {
     "data": {
      "text/plain": [
       "array([[ 1.08067278,  0.14809719,  0.07477313,  1.02768443, -1.21752808],\n",
       "       [-0.55195376,  1.12815215,  1.23079873, -0.50812092, -0.4128026 ],\n",
       "       [-0.8380566 , -0.11157549, -1.01743084, -0.80594414,  0.45062873],\n",
       "       [ 1.04747082,  0.07050951, -0.45213014,  0.97500356,  1.21414431],\n",
       "       [-0.53039438, -0.88640526,  0.76344004, -0.48467666, -0.35526462]])"
      ]
     },
     "execution_count": 31,
     "metadata": {},
     "output_type": "execute_result"
    }
   ],
   "source": [
    "kmeans.cluster_centers_"
   ]
  },
  {
   "cell_type": "markdown",
   "id": "16f38a63",
   "metadata": {},
   "source": [
    "# 10. Add cluster data with primary dataset"
   ]
  },
  {
   "cell_type": "code",
   "execution_count": 33,
   "id": "2ef0bd1b",
   "metadata": {},
   "outputs": [
    {
     "data": {
      "text/html": [
       "<div>\n",
       "<style scoped>\n",
       "    .dataframe tbody tr th:only-of-type {\n",
       "        vertical-align: middle;\n",
       "    }\n",
       "\n",
       "    .dataframe tbody tr th {\n",
       "        vertical-align: top;\n",
       "    }\n",
       "\n",
       "    .dataframe thead th {\n",
       "        text-align: right;\n",
       "    }\n",
       "</style>\n",
       "<table border=\"1\" class=\"dataframe\">\n",
       "  <thead>\n",
       "    <tr style=\"text-align: right;\">\n",
       "      <th></th>\n",
       "      <th>CustomerID</th>\n",
       "      <th>Gender</th>\n",
       "      <th>Age</th>\n",
       "      <th>Annual Income (k$)</th>\n",
       "      <th>Spending Score (1-100)</th>\n",
       "      <th>Cluster</th>\n",
       "    </tr>\n",
       "  </thead>\n",
       "  <tbody>\n",
       "    <tr>\n",
       "      <th>0</th>\n",
       "      <td>1</td>\n",
       "      <td>1</td>\n",
       "      <td>19.0</td>\n",
       "      <td>15.0</td>\n",
       "      <td>39.0</td>\n",
       "      <td>2</td>\n",
       "    </tr>\n",
       "    <tr>\n",
       "      <th>1</th>\n",
       "      <td>2</td>\n",
       "      <td>1</td>\n",
       "      <td>21.0</td>\n",
       "      <td>15.0</td>\n",
       "      <td>81.0</td>\n",
       "      <td>2</td>\n",
       "    </tr>\n",
       "    <tr>\n",
       "      <th>2</th>\n",
       "      <td>3</td>\n",
       "      <td>0</td>\n",
       "      <td>20.0</td>\n",
       "      <td>16.0</td>\n",
       "      <td>6.0</td>\n",
       "      <td>2</td>\n",
       "    </tr>\n",
       "    <tr>\n",
       "      <th>3</th>\n",
       "      <td>4</td>\n",
       "      <td>0</td>\n",
       "      <td>23.0</td>\n",
       "      <td>16.0</td>\n",
       "      <td>77.0</td>\n",
       "      <td>2</td>\n",
       "    </tr>\n",
       "    <tr>\n",
       "      <th>4</th>\n",
       "      <td>5</td>\n",
       "      <td>0</td>\n",
       "      <td>31.0</td>\n",
       "      <td>17.0</td>\n",
       "      <td>40.0</td>\n",
       "      <td>2</td>\n",
       "    </tr>\n",
       "  </tbody>\n",
       "</table>\n",
       "</div>"
      ],
      "text/plain": [
       "   CustomerID  Gender   Age  Annual Income (k$)  Spending Score (1-100)  \\\n",
       "0           1       1  19.0                15.0                    39.0   \n",
       "1           2       1  21.0                15.0                    81.0   \n",
       "2           3       0  20.0                16.0                     6.0   \n",
       "3           4       0  23.0                16.0                    77.0   \n",
       "4           5       0  31.0                17.0                    40.0   \n",
       "\n",
       "   Cluster  \n",
       "0        2  \n",
       "1        2  \n",
       "2        2  \n",
       "3        2  \n",
       "4        2  "
      ]
     },
     "execution_count": 33,
     "metadata": {},
     "output_type": "execute_result"
    }
   ],
   "source": [
    "data['Cluster']=kmeans.labels_\n",
    "data.head()"
   ]
  },
  {
   "cell_type": "markdown",
   "id": "f67c0f50",
   "metadata": {},
   "source": [
    "# 11. Split data into dependent and independent variables"
   ]
  },
  {
   "cell_type": "code",
   "execution_count": 36,
   "id": "d95d5187",
   "metadata": {},
   "outputs": [
    {
     "data": {
      "text/plain": [
       "(     CustomerID  Gender   Age  Annual Income (k$)  Spending Score (1-100)\n",
       " 0             1       1  19.0               15.00                    39.0\n",
       " 1             2       1  21.0               15.00                    81.0\n",
       " 2             3       0  20.0               16.00                     6.0\n",
       " 3             4       0  23.0               16.00                    77.0\n",
       " 4             5       0  31.0               17.00                    40.0\n",
       " ..          ...     ...   ...                 ...                     ...\n",
       " 195         196       0  35.0              120.00                    79.0\n",
       " 196         197       0  45.0              126.00                    28.0\n",
       " 197         198       1  32.0              126.00                    74.0\n",
       " 198         199       1  32.0              132.75                    18.0\n",
       " 199         200       1  30.0              132.75                    83.0\n",
       " \n",
       " [200 rows x 5 columns],\n",
       " 0      2\n",
       " 1      2\n",
       " 2      2\n",
       " 3      2\n",
       " 4      2\n",
       "       ..\n",
       " 195    3\n",
       " 196    0\n",
       " 197    3\n",
       " 198    0\n",
       " 199    3\n",
       " Name: Cluster, Length: 200, dtype: int32)"
      ]
     },
     "execution_count": 36,
     "metadata": {},
     "output_type": "execute_result"
    }
   ],
   "source": [
    "x=data.drop('Cluster',axis=1)\n",
    "y=data['Cluster']\n",
    "x,y"
   ]
  },
  {
   "cell_type": "markdown",
   "id": "e055b870",
   "metadata": {},
   "source": [
    "# 12. Split data into training and testing"
   ]
  },
  {
   "cell_type": "code",
   "execution_count": 37,
   "id": "c65f713f",
   "metadata": {},
   "outputs": [],
   "source": [
    "from sklearn.model_selection import train_test_split\n",
    "x_train,x_test,y_train,y_test=train_test_split(x,y,test_size=0.2,random_state=42)"
   ]
  },
  {
   "cell_type": "code",
   "execution_count": 38,
   "id": "4d291663",
   "metadata": {},
   "outputs": [
    {
     "name": "stdout",
     "output_type": "stream",
     "text": [
      "(160, 5) (40, 5) (160,) (40,)\n"
     ]
    }
   ],
   "source": [
    "print(x_train.shape, x_test.shape, y_train.shape, y_test.shape)"
   ]
  },
  {
   "cell_type": "markdown",
   "id": "a17c188b",
   "metadata": {},
   "source": [
    "# 13. Build the model"
   ]
  },
  {
   "cell_type": "code",
   "execution_count": 39,
   "id": "30f3ba2b",
   "metadata": {},
   "outputs": [],
   "source": [
    "from sklearn.ensemble import RandomForestClassifier\n",
    "model = RandomForestClassifier()"
   ]
  },
  {
   "cell_type": "markdown",
   "id": "2f0def62",
   "metadata": {},
   "source": [
    "# 14. Train the model"
   ]
  },
  {
   "cell_type": "code",
   "execution_count": 40,
   "id": "075cc0ab",
   "metadata": {},
   "outputs": [
    {
     "data": {
      "text/plain": [
       "RandomForestClassifier()"
      ]
     },
     "execution_count": 40,
     "metadata": {},
     "output_type": "execute_result"
    }
   ],
   "source": [
    "model.fit(x_train,y_train)"
   ]
  },
  {
   "cell_type": "markdown",
   "id": "90bcf7f3",
   "metadata": {},
   "source": [
    "# 15. Test the model"
   ]
  },
  {
   "cell_type": "code",
   "execution_count": 41,
   "id": "16a94839",
   "metadata": {},
   "outputs": [
    {
     "data": {
      "text/plain": [
       "array([2, 2, 1, 0, 0, 2, 2, 0, 0, 2, 4, 0, 3, 2, 0, 3, 4, 0, 1, 2, 0, 4,\n",
       "       0, 4, 2, 1, 2, 4, 3, 0, 2, 1, 1, 2, 0, 1, 3, 3, 0, 4])"
      ]
     },
     "execution_count": 41,
     "metadata": {},
     "output_type": "execute_result"
    }
   ],
   "source": [
    "pred=model.predict(x_test)\n",
    "pred"
   ]
  },
  {
   "cell_type": "markdown",
   "id": "b3edeb60",
   "metadata": {},
   "source": [
    "# 16. Performance and evaluation metrics"
   ]
  },
  {
   "cell_type": "code",
   "execution_count": 44,
   "id": "e7eeef7d",
   "metadata": {},
   "outputs": [
    {
     "name": "stdout",
     "output_type": "stream",
     "text": [
      "Accuracy: 0.975\n"
     ]
    }
   ],
   "source": [
    "from sklearn.metrics import accuracy_score\n",
    "print(\"Accuracy:\",accuracy_score(y_test,pred))"
   ]
  },
  {
   "cell_type": "code",
   "execution_count": 47,
   "id": "63dab04d",
   "metadata": {},
   "outputs": [
    {
     "name": "stdout",
     "output_type": "stream",
     "text": [
      "[[11  0  0  0  0]\n",
      " [ 1  6  0  0  0]\n",
      " [ 0  0 11  0  0]\n",
      " [ 0  0  0  5  0]\n",
      " [ 0  0  0  0  6]]\n"
     ]
    }
   ],
   "source": [
    "from sklearn.metrics import confusion_matrix,classification_report\n",
    "print(confusion_matrix(y_test,pred))"
   ]
  },
  {
   "cell_type": "code",
   "execution_count": 48,
   "id": "0a8d0db2",
   "metadata": {},
   "outputs": [
    {
     "name": "stdout",
     "output_type": "stream",
     "text": [
      "              precision    recall  f1-score   support\n",
      "\n",
      "           0       0.92      1.00      0.96        11\n",
      "           1       1.00      0.86      0.92         7\n",
      "           2       1.00      1.00      1.00        11\n",
      "           3       1.00      1.00      1.00         5\n",
      "           4       1.00      1.00      1.00         6\n",
      "\n",
      "    accuracy                           0.97        40\n",
      "   macro avg       0.98      0.97      0.98        40\n",
      "weighted avg       0.98      0.97      0.97        40\n",
      "\n"
     ]
    }
   ],
   "source": [
    "print(classification_report(y_test,pred))"
   ]
  },
  {
   "cell_type": "code",
   "execution_count": null,
   "id": "6c6dbf09",
   "metadata": {},
   "outputs": [],
   "source": []
  }
 ],
 "metadata": {
  "kernelspec": {
   "display_name": "Python 3 (ipykernel)",
   "language": "python",
   "name": "python3"
  },
  "language_info": {
   "codemirror_mode": {
    "name": "ipython",
    "version": 3
   },
   "file_extension": ".py",
   "mimetype": "text/x-python",
   "name": "python",
   "nbconvert_exporter": "python",
   "pygments_lexer": "ipython3",
   "version": "3.9.12"
  }
 },
 "nbformat": 4,
 "nbformat_minor": 5
}
